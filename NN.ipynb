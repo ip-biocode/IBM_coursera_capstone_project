{
 "cells": [
  {
   "cell_type": "markdown",
   "id": "7e42ec74",
   "metadata": {},
   "source": [
    "# Artificial Neural Networks\n",
    "\n",
    "ip-biocode $\\cdot$ March 26, 2022\n",
    "\n",
    "In this exercise, I build a neural network from scratch and code how it performs predictions using forward propagation. This is only to help with understanding the underlying mechanisms. All deep learning libraries have the entire training and prediction processes implemented, and so in practice you wouldn't really need to build a neural network from scratch.\n",
    "\n",
    "## Forward Propagation\n",
    "\n",
    "Example:\n",
    "<img src=\"http://cocl.us/neural_network_example\" alt=\"Neural Network Example\" width=600px>\n"
   ]
  },
  {
   "cell_type": "code",
   "execution_count": null,
   "id": "0efa85d1",
   "metadata": {},
   "outputs": [],
   "source": []
  }
 ],
 "metadata": {
  "kernelspec": {
   "display_name": "Python 3 (ipykernel)",
   "language": "python",
   "name": "python3"
  },
  "language_info": {
   "codemirror_mode": {
    "name": "ipython",
    "version": 3
   },
   "file_extension": ".py",
   "mimetype": "text/x-python",
   "name": "python",
   "nbconvert_exporter": "python",
   "pygments_lexer": "ipython3",
   "version": "3.10.2"
  }
 },
 "nbformat": 4,
 "nbformat_minor": 5
}
