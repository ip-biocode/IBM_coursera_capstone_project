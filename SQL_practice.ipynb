{
 "cells": [
  {
   "cell_type": "markdown",
   "metadata": {},
   "source": [
    "# Manipulating MySQL Data in Python\n",
    "\n",
    "March 22, 2022\n",
    "\n",
    "This file makes connection to MySQL database through python to retrieve, manipulate, and analyze data. Make sure to download and install the most recent version of MySQL on your local machine, which is available at this community server: https://dev.mysql.com/downloads/mysql/.\n",
    "\n",
    "After installing MySQL, install MySQL Connector for python. "
   ]
  },
  {
   "cell_type": "code",
   "execution_count": 8,
   "metadata": {},
   "outputs": [
    {
     "name": "stdout",
     "output_type": "stream",
     "text": [
      "Requirement already satisfied: mysql-connector-python in /Library/Frameworks/Python.framework/Versions/3.10/lib/python3.10/site-packages (8.0.28)\r\n",
      "Requirement already satisfied: protobuf>=3.0.0 in /Library/Frameworks/Python.framework/Versions/3.10/lib/python3.10/site-packages (from mysql-connector-python) (3.19.4)\r\n"
     ]
    }
   ],
   "source": [
    "## Toggle comment if already installed\n",
    "# !pip install mysql-connector-python"
   ]
  },
  {
   "cell_type": "markdown",
   "metadata": {},
   "source": [
    "## Connect to MySQL"
   ]
  },
  {
   "cell_type": "code",
   "execution_count": 9,
   "metadata": {},
   "outputs": [
    {
     "name": "stdout",
     "output_type": "stream",
     "text": [
      "<mysql.connector.connection_cext.CMySQLConnection object at 0x10f887850>\n"
     ]
    }
   ],
   "source": [
    "import mysql.connector\n",
    "\n",
    "# Establish connection\n",
    "mydb = mysql.connector.connect(\n",
    "    host = 'localhost',\n",
    "    user = 'root', # default\n",
    "    password = 'dhdhtkdbr' # your pw\n",
    ")\n",
    "\n",
    "print(mydb)\n",
    "\n",
    "# Create cursor to interact with MySQL\n",
    "cs = mydb.cursor()"
   ]
  },
  {
   "cell_type": "markdown",
   "metadata": {},
   "source": [
    "## Create a Database"
   ]
  },
  {
   "cell_type": "code",
   "execution_count": 10,
   "metadata": {},
   "outputs": [
    {
     "name": "stdout",
     "output_type": "stream",
     "text": [
      "('information_schema',)\n",
      "('mydatabase',)\n",
      "('mysql',)\n",
      "('performance_schema',)\n",
      "('sys',)\n"
     ]
    }
   ],
   "source": [
    "# # Convention to drop before create\n",
    "# cs.execute(\"DROP DATABASE mydatabase\")\n",
    "\n",
    "# Create table named 'Instructor'\n",
    "cs.execute(\"CREATE DATABASE mydatabase\")\n",
    "\n",
    "# Verify\n",
    "cs.execute(\"SHOW DATABASES\")\n",
    "for x in cs:\n",
    "    print(x)"
   ]
  },
  {
   "cell_type": "markdown",
   "metadata": {},
   "source": [
    "## Create a Table"
   ]
  },
  {
   "cell_type": "code",
   "execution_count": 11,
   "metadata": {},
   "outputs": [
    {
     "name": "stdout",
     "output_type": "stream",
     "text": [
      "('Instructor',)\n"
     ]
    }
   ],
   "source": [
    "# Connect to database\n",
    "mydb = mysql.connector.connect(\n",
    "  host = \"localhost\",\n",
    "  user = \"root\",\n",
    "  password = \"dhdhtkdbr\",\n",
    "  database = \"mydatabase\"\n",
    ")\n",
    "\n",
    "cs = mydb.cursor()\n",
    "\n",
    "# # Drop if exists\n",
    "# cs.execute(\"DROP TABLE Instructor\")\n",
    "\n",
    "# Create table by defining fields\n",
    "cs.execute(\"CREATE TABLE Instructor (ID INTEGER PRIMARY KEY NOT NULL, FNAME VARCHAR(20), LNAME VARCHAR(20), CITY VARCHAR(20), CCODE CHAR(2))\")\n",
    "\n",
    "# Verify table created\n",
    "cs.execute(\"SHOW TABLES\")\n",
    "\n",
    "for x in cs:\n",
    "    print(x)"
   ]
  },
  {
   "cell_type": "markdown",
   "metadata": {},
   "source": [
    "## Add Values"
   ]
  },
  {
   "cell_type": "code",
   "execution_count": 12,
   "metadata": {},
   "outputs": [],
   "source": [
    "ins_str = \"INSERT INTO Instructor VALUES (%s, %s, %s, %s, %s)\"\n",
    "vals = [(1, 'Rav', 'Ahuja', 'TORONTO', 'CA'),\n",
    "        (2, 'Raul', 'Chong', 'Markham', 'CA'), \n",
    "        (3, 'Hima', 'Vasudevan', 'Chicago', 'US')]\n",
    "\n",
    "cs.executemany(ins_str, vals)"
   ]
  },
  {
   "cell_type": "code",
   "execution_count": null,
   "metadata": {},
   "outputs": [],
   "source": []
  }
 ],
 "metadata": {
  "kernelspec": {
   "display_name": "Python 3 (ipykernel)",
   "language": "python",
   "name": "python3"
  },
  "language_info": {
   "codemirror_mode": {
    "name": "ipython",
    "version": 3
   },
   "file_extension": ".py",
   "mimetype": "text/x-python",
   "name": "python",
   "nbconvert_exporter": "python",
   "pygments_lexer": "ipython3",
   "version": "3.10.2"
  }
 },
 "nbformat": 4,
 "nbformat_minor": 1
}
